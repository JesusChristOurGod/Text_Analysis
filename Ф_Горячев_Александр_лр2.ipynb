{
 "cells": [
  {
   "cell_type": "markdown",
   "source": [
    "## Устанвливаем всякое нужное"
   ],
   "metadata": {
    "collapsed": false
   }
  },
  {
   "cell_type": "code",
   "execution_count": 20,
   "metadata": {
    "collapsed": true
   },
   "outputs": [
    {
     "name": "stderr",
     "output_type": "stream",
     "text": [
      "[nltk_data] Downloading package punkt to /Users/alexander/nltk_data...\n",
      "[nltk_data]   Package punkt is already up-to-date!\n",
      "[nltk_data] Downloading package stopwords to\n",
      "[nltk_data]     /Users/alexander/nltk_data...\n",
      "[nltk_data]   Package stopwords is already up-to-date!\n"
     ]
    }
   ],
   "source": [
    "from nltk.tokenize import word_tokenize\n",
    "import nltk\n",
    "from string import punctuation\n",
    "import pymorphy2\n",
    "from nltk.stem.snowball import RussianStemmer\n",
    "import pandas as pd\n",
    "nltk.download('punkt')\n",
    "nltk.download('stopwords')\n",
    "\n",
    "#исходные текстовые данные\n",
    "string = 'Криптовалюты - это наше будущее! Очень хотелось бы, чтобы эта технология скорее получила большее признание. И мне хотелось бы на этом заработать)'"
   ]
  },
  {
   "cell_type": "markdown",
   "source": [
    "## Читаем файлик"
   ],
   "metadata": {
    "collapsed": false
   }
  },
  {
   "cell_type": "code",
   "execution_count": 22,
   "outputs": [
    {
     "data": {
      "text/plain": "   Unnamed: 0                                      Transcription Emotion  \\\n0           0  Давай ты успокоишься для начала. Ты можешь не ...    гнев   \n1           1  Подожди, подожди, успокойся пожалуйста. Подожд...    гнев   \n2           2  Кристин, привет. Ты слышала там самолёт упал в...   страх   \n3           3  Кристин, привет .. слушай .. Я боюсь лететь, т...   страх   \n4           4  Почему? Подожди... Ну подожди, ну как же, но м...  грусть   \n\n              Sentiment  Emotions  \n0  негативный сентимент         0  \n1  негативный сентимент         0  \n2  негативный сентимент         5  \n3  негативный сентимент         5  \n4  негативный сентимент         1  ",
      "text/html": "<div>\n<style scoped>\n    .dataframe tbody tr th:only-of-type {\n        vertical-align: middle;\n    }\n\n    .dataframe tbody tr th {\n        vertical-align: top;\n    }\n\n    .dataframe thead th {\n        text-align: right;\n    }\n</style>\n<table border=\"1\" class=\"dataframe\">\n  <thead>\n    <tr style=\"text-align: right;\">\n      <th></th>\n      <th>Unnamed: 0</th>\n      <th>Transcription</th>\n      <th>Emotion</th>\n      <th>Sentiment</th>\n      <th>Emotions</th>\n    </tr>\n  </thead>\n  <tbody>\n    <tr>\n      <th>0</th>\n      <td>0</td>\n      <td>Давай ты успокоишься для начала. Ты можешь не ...</td>\n      <td>гнев</td>\n      <td>негативный сентимент</td>\n      <td>0</td>\n    </tr>\n    <tr>\n      <th>1</th>\n      <td>1</td>\n      <td>Подожди, подожди, успокойся пожалуйста. Подожд...</td>\n      <td>гнев</td>\n      <td>негативный сентимент</td>\n      <td>0</td>\n    </tr>\n    <tr>\n      <th>2</th>\n      <td>2</td>\n      <td>Кристин, привет. Ты слышала там самолёт упал в...</td>\n      <td>страх</td>\n      <td>негативный сентимент</td>\n      <td>5</td>\n    </tr>\n    <tr>\n      <th>3</th>\n      <td>3</td>\n      <td>Кристин, привет .. слушай .. Я боюсь лететь, т...</td>\n      <td>страх</td>\n      <td>негативный сентимент</td>\n      <td>5</td>\n    </tr>\n    <tr>\n      <th>4</th>\n      <td>4</td>\n      <td>Почему? Подожди... Ну подожди, ну как же, но м...</td>\n      <td>грусть</td>\n      <td>негативный сентимент</td>\n      <td>1</td>\n    </tr>\n  </tbody>\n</table>\n</div>"
     },
     "execution_count": 22,
     "metadata": {},
     "output_type": "execute_result"
    }
   ],
   "source": [
    "df = pd.read_csv('res.csv', sep=\";\")\n",
    "df.head()"
   ],
   "metadata": {
    "collapsed": false
   }
  },
  {
   "cell_type": "markdown",
   "source": [
    "## Функция со всеми шагами обработки.  Константы выносим в аргументы, чтобы не пересчитывать"
   ],
   "metadata": {
    "collapsed": false
   }
  },
  {
   "cell_type": "code",
   "execution_count": 31,
   "outputs": [],
   "source": [
    "def preprocessing(string, stopwords, morph, punctuations) -> str:\n",
    "    tokens = word_tokenize(string)\n",
    "\n",
    "    tokens_without_punct = [i for i in tokens if i not in punctuations]\n",
    "    low_tokens  = [t.lower() for t in tokens_without_punct]\n",
    "    words_without_stop = [w for w in low_tokens if w not in stopwords]\n",
    "    lemms = [morph.parse(i)[0].normal_form for i in words_without_stop]\n",
    "    result_string = \"\"\n",
    "    for i in lemms:\n",
    "        result_string+=(i+\" \")\n",
    "    return result_string"
   ],
   "metadata": {
    "collapsed": false
   }
  },
  {
   "cell_type": "markdown",
   "source": [
    "## Делаем константные списки. Удаляем из пунктуации скобочку (для улыбки)"
   ],
   "metadata": {
    "collapsed": false
   }
  },
  {
   "cell_type": "code",
   "execution_count": 40,
   "outputs": [],
   "source": [
    "punctuations = list(punctuation)\n",
    "punctuations.remove(\")\")"
   ],
   "metadata": {
    "collapsed": false
   }
  },
  {
   "cell_type": "code",
   "execution_count": null,
   "outputs": [],
   "source": [
    "stopwords = nltk.corpus.stopwords.words('russian')\n",
    "morph = pymorphy2.MorphAnalyzer()"
   ],
   "metadata": {
    "collapsed": false,
    "pycharm": {
     "is_executing": true
    }
   }
  },
  {
   "cell_type": "markdown",
   "source": [
    "## Результат работы функции"
   ],
   "metadata": {
    "collapsed": false
   }
  },
  {
   "cell_type": "code",
   "execution_count": 45,
   "outputs": [
    {
     "data": {
      "text/plain": "'криптовалюта это наш будущее очень хотеться этот технология скорее получить больший признание хотеться заработать ) '"
     },
     "execution_count": 45,
     "metadata": {},
     "output_type": "execute_result"
    }
   ],
   "source": [
    "preprocessing(string, stopwords, morph, punctuations)"
   ],
   "metadata": {
    "collapsed": false
   }
  },
  {
   "cell_type": "markdown",
   "source": [
    "## Делаем список подготовленных текстов и записываем его в датафрейм"
   ],
   "metadata": {
    "collapsed": false
   }
  },
  {
   "cell_type": "code",
   "execution_count": 42,
   "outputs": [],
   "source": [
    "preprocessed_text = [preprocessing(x, stopwords, morph, punctuations) for x in df.Transcription]\n"
   ],
   "metadata": {
    "collapsed": false
   }
  },
  {
   "cell_type": "code",
   "execution_count": 43,
   "outputs": [
    {
     "data": {
      "text/plain": "     Unnamed: 0                                      Transcription   Emotion  \\\n0             0  Давай ты успокоишься для начала. Ты можешь не ...      гнев   \n1             1  Подожди, подожди, успокойся пожалуйста. Подожд...      гнев   \n2             2  Кристин, привет. Ты слышала там самолёт упал в...     страх   \n3             3  Кристин, привет .. слушай .. Я боюсь лететь, т...     страх   \n4             4  Почему? Подожди... Ну подожди, ну как же, но м...    грусть   \n..          ...                                                ...       ...   \n530         530  Я тут готовила медовик. Чтобы приготовить медо...  нейтраль   \n531         531  Значит, правила игры в дурака. Обычного. 36 ка...  нейтраль   \n532         532  Так. В Третьяковской галерее продается такая и...  нейтраль   \n533         533  я из города Челябинска. Ничего не умел, ничего...  нейтраль   \n534         534  Меня зовут Ленога Екатерина, мне 23 года. Я ро...  нейтраль   \n\n                 Sentiment  Emotions  \\\n0     негативный сентимент         0   \n1     негативный сентимент         0   \n2     негативный сентимент         5   \n3     негативный сентимент         5   \n4     негативный сентимент         1   \n..                     ...       ...   \n530  нейтральный сентимент         2   \n531  нейтральный сентимент         2   \n532  нейтральный сентимент         2   \n533  нейтральный сентимент         2   \n534  нейтральный сентимент         2   \n\n                                     Preprocessed_text  \n0    давать успокоиться начало мочь вестись ерунда ...  \n1    подождать подождать успокоиться пожалуйста под...  \n2    кристин привет слышать самолёт упасть зеландия...  \n3    кристин привет .. слушать .. бояться лететь ра...  \n4    почему подождать ... подождать давно планирова...  \n..                                                 ...  \n530  готовить медовик приготовить медовик очень вре...  \n531  значит правило игра дурак обычный 36 карта кол...  \n532  третьяковский галерея продаваться такой игра п...  \n533  город челябинск уметь хотеть учиться банкир фи...  \n534  звать ленога екатерина 23 год родиться 93-м го...  \n\n[535 rows x 6 columns]",
      "text/html": "<div>\n<style scoped>\n    .dataframe tbody tr th:only-of-type {\n        vertical-align: middle;\n    }\n\n    .dataframe tbody tr th {\n        vertical-align: top;\n    }\n\n    .dataframe thead th {\n        text-align: right;\n    }\n</style>\n<table border=\"1\" class=\"dataframe\">\n  <thead>\n    <tr style=\"text-align: right;\">\n      <th></th>\n      <th>Unnamed: 0</th>\n      <th>Transcription</th>\n      <th>Emotion</th>\n      <th>Sentiment</th>\n      <th>Emotions</th>\n      <th>Preprocessed_text</th>\n    </tr>\n  </thead>\n  <tbody>\n    <tr>\n      <th>0</th>\n      <td>0</td>\n      <td>Давай ты успокоишься для начала. Ты можешь не ...</td>\n      <td>гнев</td>\n      <td>негативный сентимент</td>\n      <td>0</td>\n      <td>давать успокоиться начало мочь вестись ерунда ...</td>\n    </tr>\n    <tr>\n      <th>1</th>\n      <td>1</td>\n      <td>Подожди, подожди, успокойся пожалуйста. Подожд...</td>\n      <td>гнев</td>\n      <td>негативный сентимент</td>\n      <td>0</td>\n      <td>подождать подождать успокоиться пожалуйста под...</td>\n    </tr>\n    <tr>\n      <th>2</th>\n      <td>2</td>\n      <td>Кристин, привет. Ты слышала там самолёт упал в...</td>\n      <td>страх</td>\n      <td>негативный сентимент</td>\n      <td>5</td>\n      <td>кристин привет слышать самолёт упасть зеландия...</td>\n    </tr>\n    <tr>\n      <th>3</th>\n      <td>3</td>\n      <td>Кристин, привет .. слушай .. Я боюсь лететь, т...</td>\n      <td>страх</td>\n      <td>негативный сентимент</td>\n      <td>5</td>\n      <td>кристин привет .. слушать .. бояться лететь ра...</td>\n    </tr>\n    <tr>\n      <th>4</th>\n      <td>4</td>\n      <td>Почему? Подожди... Ну подожди, ну как же, но м...</td>\n      <td>грусть</td>\n      <td>негативный сентимент</td>\n      <td>1</td>\n      <td>почему подождать ... подождать давно планирова...</td>\n    </tr>\n    <tr>\n      <th>...</th>\n      <td>...</td>\n      <td>...</td>\n      <td>...</td>\n      <td>...</td>\n      <td>...</td>\n      <td>...</td>\n    </tr>\n    <tr>\n      <th>530</th>\n      <td>530</td>\n      <td>Я тут готовила медовик. Чтобы приготовить медо...</td>\n      <td>нейтраль</td>\n      <td>нейтральный сентимент</td>\n      <td>2</td>\n      <td>готовить медовик приготовить медовик очень вре...</td>\n    </tr>\n    <tr>\n      <th>531</th>\n      <td>531</td>\n      <td>Значит, правила игры в дурака. Обычного. 36 ка...</td>\n      <td>нейтраль</td>\n      <td>нейтральный сентимент</td>\n      <td>2</td>\n      <td>значит правило игра дурак обычный 36 карта кол...</td>\n    </tr>\n    <tr>\n      <th>532</th>\n      <td>532</td>\n      <td>Так. В Третьяковской галерее продается такая и...</td>\n      <td>нейтраль</td>\n      <td>нейтральный сентимент</td>\n      <td>2</td>\n      <td>третьяковский галерея продаваться такой игра п...</td>\n    </tr>\n    <tr>\n      <th>533</th>\n      <td>533</td>\n      <td>я из города Челябинска. Ничего не умел, ничего...</td>\n      <td>нейтраль</td>\n      <td>нейтральный сентимент</td>\n      <td>2</td>\n      <td>город челябинск уметь хотеть учиться банкир фи...</td>\n    </tr>\n    <tr>\n      <th>534</th>\n      <td>534</td>\n      <td>Меня зовут Ленога Екатерина, мне 23 года. Я ро...</td>\n      <td>нейтраль</td>\n      <td>нейтральный сентимент</td>\n      <td>2</td>\n      <td>звать ленога екатерина 23 год родиться 93-м го...</td>\n    </tr>\n  </tbody>\n</table>\n<p>535 rows × 6 columns</p>\n</div>"
     },
     "execution_count": 43,
     "metadata": {},
     "output_type": "execute_result"
    }
   ],
   "source": [
    "df[\"Preprocessed_text\"]=preprocessed_text\n",
    "df"
   ],
   "metadata": {
    "collapsed": false
   }
  },
  {
   "cell_type": "markdown",
   "source": [
    "## Сохраняемся"
   ],
   "metadata": {
    "collapsed": false
   }
  },
  {
   "cell_type": "code",
   "execution_count": 46,
   "outputs": [],
   "source": [
    "df.to_csv('res2.csv', sep=\";\", index=False)"
   ],
   "metadata": {
    "collapsed": false
   }
  },
  {
   "cell_type": "code",
   "execution_count": null,
   "outputs": [],
   "source": [],
   "metadata": {
    "collapsed": false
   }
  }
 ],
 "metadata": {
  "kernelspec": {
   "display_name": "Python 3",
   "language": "python",
   "name": "python3"
  },
  "language_info": {
   "codemirror_mode": {
    "name": "ipython",
    "version": 2
   },
   "file_extension": ".py",
   "mimetype": "text/x-python",
   "name": "python",
   "nbconvert_exporter": "python",
   "pygments_lexer": "ipython2",
   "version": "2.7.6"
  }
 },
 "nbformat": 4,
 "nbformat_minor": 0
}
