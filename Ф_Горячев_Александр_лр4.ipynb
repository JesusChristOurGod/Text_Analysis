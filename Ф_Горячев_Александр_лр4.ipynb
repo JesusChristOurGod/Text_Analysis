{
 "cells": [
  {
   "cell_type": "code",
   "execution_count": 79,
   "metadata": {
    "collapsed": true
   },
   "outputs": [],
   "source": [
    "import pandas as pd\n",
    "from sklearn.model_selection import train_test_split\n",
    "from sklearn.linear_model import LogisticRegression\n",
    "from sklearn.metrics import accuracy_score\n",
    "from sklearn.metrics import precision_score\n",
    "from sklearn.metrics import recall_score\n",
    "from sklearn.metrics import f1_score\n",
    "from sklearn.svm import LinearSVC\n",
    "from sklearn.tree import DecisionTreeClassifier\n",
    "from sklearn.ensemble import RandomForestClassifier\n",
    "from sklearn.neighbors import KNeighborsClassifier\n",
    "from sklearn.naive_bayes import MultinomialNB\n"
   ]
  },
  {
   "cell_type": "code",
   "execution_count": 2,
   "outputs": [
    {
     "data": {
      "text/plain": "   Unnamed: 0                                               Text  Positive  \\\n0           0  давать успокоиться начало мочь вестись ерунда ...  2.000000   \n1           1  подождать подождать успокоиться пожалуйста под...  8.055556   \n2           2  кристин привет слышать самолёт упасть зеландия...  6.400000   \n3           3  кристин привет .. слушать .. бояться лететь ра...  5.000000   \n4           4  почему подождать ... подождать давно планирова...  0.000000   \n\n   Negative      Mean  Max  Min             Sentiment  \n0 -1.916667  0.002604  1.0 -1.0  негативный сентимент  \n1 -2.416667  0.102525  1.0 -1.0  негативный сентимент  \n2 -7.750000 -0.020149  1.0 -1.0  негативный сентимент  \n3 -7.450000 -0.035507  1.0 -1.0  негативный сентимент  \n4 -1.000000 -0.111111  0.0 -1.0  негативный сентимент  ",
      "text/html": "<div>\n<style scoped>\n    .dataframe tbody tr th:only-of-type {\n        vertical-align: middle;\n    }\n\n    .dataframe tbody tr th {\n        vertical-align: top;\n    }\n\n    .dataframe thead th {\n        text-align: right;\n    }\n</style>\n<table border=\"1\" class=\"dataframe\">\n  <thead>\n    <tr style=\"text-align: right;\">\n      <th></th>\n      <th>Unnamed: 0</th>\n      <th>Text</th>\n      <th>Positive</th>\n      <th>Negative</th>\n      <th>Mean</th>\n      <th>Max</th>\n      <th>Min</th>\n      <th>Sentiment</th>\n    </tr>\n  </thead>\n  <tbody>\n    <tr>\n      <th>0</th>\n      <td>0</td>\n      <td>давать успокоиться начало мочь вестись ерунда ...</td>\n      <td>2.000000</td>\n      <td>-1.916667</td>\n      <td>0.002604</td>\n      <td>1.0</td>\n      <td>-1.0</td>\n      <td>негативный сентимент</td>\n    </tr>\n    <tr>\n      <th>1</th>\n      <td>1</td>\n      <td>подождать подождать успокоиться пожалуйста под...</td>\n      <td>8.055556</td>\n      <td>-2.416667</td>\n      <td>0.102525</td>\n      <td>1.0</td>\n      <td>-1.0</td>\n      <td>негативный сентимент</td>\n    </tr>\n    <tr>\n      <th>2</th>\n      <td>2</td>\n      <td>кристин привет слышать самолёт упасть зеландия...</td>\n      <td>6.400000</td>\n      <td>-7.750000</td>\n      <td>-0.020149</td>\n      <td>1.0</td>\n      <td>-1.0</td>\n      <td>негативный сентимент</td>\n    </tr>\n    <tr>\n      <th>3</th>\n      <td>3</td>\n      <td>кристин привет .. слушать .. бояться лететь ра...</td>\n      <td>5.000000</td>\n      <td>-7.450000</td>\n      <td>-0.035507</td>\n      <td>1.0</td>\n      <td>-1.0</td>\n      <td>негативный сентимент</td>\n    </tr>\n    <tr>\n      <th>4</th>\n      <td>4</td>\n      <td>почему подождать ... подождать давно планирова...</td>\n      <td>0.000000</td>\n      <td>-1.000000</td>\n      <td>-0.111111</td>\n      <td>0.0</td>\n      <td>-1.0</td>\n      <td>негативный сентимент</td>\n    </tr>\n  </tbody>\n</table>\n</div>"
     },
     "execution_count": 2,
     "metadata": {},
     "output_type": "execute_result"
    }
   ],
   "source": [
    "tones = pd.read_csv('tonal_vectors.csv', sep=\";\")\n",
    "tones.head()"
   ],
   "metadata": {
    "collapsed": false
   }
  },
  {
   "cell_type": "code",
   "execution_count": 11,
   "outputs": [],
   "source": [
    "X_train, X_test, y_train, y_test = train_test_split(\n",
    "    tones.drop(columns=[\"Unnamed: 0\", \"Sentiment\", \"Text\"]),\n",
    "    tones.Sentiment,\n",
    "    test_size=0.2,\n",
    "    shuffle = True,\n",
    "    random_state=42,\n",
    "    stratify = None)"
   ],
   "metadata": {
    "collapsed": false
   }
  },
  {
   "cell_type": "markdown",
   "source": [
    "## Логистическая регрессия"
   ],
   "metadata": {
    "collapsed": false
   }
  },
  {
   "cell_type": "code",
   "execution_count": 17,
   "outputs": [],
   "source": [
    "clf = LogisticRegression(\n",
    "    penalty = 'l2', #{‘l1’, ‘l2’, ‘elasticnet’, None}, default=’l2’\n",
    "    C = 0.2, #float, default=1.0\n",
    "    class_weight = 'balanced', #dict or ‘balanced’, default=None\n",
    "    random_state = 42,\n",
    "    max_iter = 1000, #int, default=100\n",
    "    n_jobs = -1, #int, default=None\n",
    ")"
   ],
   "metadata": {
    "collapsed": false
   }
  },
  {
   "cell_type": "code",
   "execution_count": 18,
   "outputs": [
    {
     "data": {
      "text/plain": "117     негативный сентимент\n132      радостный сентимент\n154     негативный сентимент\n245    нейтральный сентимент\n84      негативный сентимент\n               ...          \n322      радостный сентимент\n375      радостный сентимент\n368     негативный сентимент\n534    нейтральный сентимент\n384     негативный сентимент\nName: Sentiment, Length: 107, dtype: object"
     },
     "execution_count": 18,
     "metadata": {},
     "output_type": "execute_result"
    }
   ],
   "source": [
    "clf_pretrained = clf.fit(X_train, y_train)\n",
    "y_predict = clf_pretrained.predict(X_test)\n",
    "y_test\n"
   ],
   "metadata": {
    "collapsed": false
   }
  },
  {
   "cell_type": "code",
   "execution_count": 19,
   "outputs": [
    {
     "data": {
      "text/plain": "array(['негативный сентимент', 'нейтральный сентимент',\n       'негативный сентимент', 'радостный сентимент',\n       'негативный сентимент', 'негативный сентимент',\n       'негативный сентимент', 'негативный сентимент',\n       'негативный сентимент', 'радостный сентимент',\n       'негативный сентимент', 'негативный сентимент',\n       'радостный сентимент', 'негативный сентимент',\n       'радостный сентимент', 'радостный сентимент',\n       'негативный сентимент', 'негативный сентимент',\n       'негативный сентимент', 'радостный сентимент',\n       'негативный сентимент', 'нейтральный сентимент',\n       'негативный сентимент', 'негативный сентимент',\n       'негативный сентимент', 'негативный сентимент',\n       'негативный сентимент', 'нейтральный сентимент',\n       'негативный сентимент', 'негативный сентимент',\n       'радостный сентимент', 'нейтральный сентимент',\n       'негативный сентимент', 'нейтральный сентимент',\n       'радостный сентимент', 'негативный сентимент',\n       'радостный сентимент', 'негативный сентимент',\n       'радостный сентимент', 'нейтральный сентимент',\n       'радостный сентимент', 'радостный сентимент',\n       'негативный сентимент', 'негативный сентимент',\n       'негативный сентимент', 'негативный сентимент',\n       'радостный сентимент', 'негативный сентимент',\n       'негативный сентимент', 'негативный сентимент',\n       'нейтральный сентимент', 'радостный сентимент',\n       'радостный сентимент', 'негативный сентимент',\n       'негативный сентимент', 'негативный сентимент',\n       'негативный сентимент', 'негативный сентимент',\n       'негативный сентимент', 'радостный сентимент',\n       'радостный сентимент', 'негативный сентимент',\n       'негативный сентимент', 'негативный сентимент',\n       'нейтральный сентимент', 'негативный сентимент',\n       'радостный сентимент', 'негативный сентимент',\n       'негативный сентимент', 'нейтральный сентимент',\n       'нейтральный сентимент', 'негативный сентимент',\n       'негативный сентимент', 'негативный сентимент',\n       'радостный сентимент', 'радостный сентимент',\n       'негативный сентимент', 'радостный сентимент',\n       'нейтральный сентимент', 'нейтральный сентимент',\n       'негативный сентимент', 'негативный сентимент',\n       'негативный сентимент', 'нейтральный сентимент',\n       'негативный сентимент', 'радостный сентимент',\n       'нейтральный сентимент', 'негативный сентимент',\n       'негативный сентимент', 'негативный сентимент',\n       'негативный сентимент', 'негативный сентимент',\n       'негативный сентимент', 'нейтральный сентимент',\n       'негативный сентимент', 'негативный сентимент',\n       'негативный сентимент', 'негативный сентимент',\n       'радостный сентимент', 'негативный сентимент',\n       'негативный сентимент', 'нейтральный сентимент',\n       'нейтральный сентимент', 'негативный сентимент',\n       'негативный сентимент', 'негативный сентимент',\n       'негативный сентимент'], dtype=object)"
     },
     "execution_count": 19,
     "metadata": {},
     "output_type": "execute_result"
    }
   ],
   "source": [
    "y_predict"
   ],
   "metadata": {
    "collapsed": false
   }
  },
  {
   "cell_type": "code",
   "execution_count": 22,
   "outputs": [
    {
     "data": {
      "text/plain": "0.3287490287490287"
     },
     "execution_count": 22,
     "metadata": {},
     "output_type": "execute_result"
    }
   ],
   "source": [
    "f1_score(y_predict, y_test, average=\"macro\")"
   ],
   "metadata": {
    "collapsed": false
   }
  },
  {
   "cell_type": "markdown",
   "source": [
    "## Метод опорных векторов"
   ],
   "metadata": {
    "collapsed": false
   }
  },
  {
   "cell_type": "code",
   "execution_count": 25,
   "outputs": [],
   "source": [
    "clf_lsvc = LinearSVC(\n",
    "    penalty = 'l2', #{‘l1’, ‘l2’}, default=’l2’\n",
    "    C = 0.2, #float, default=1.0\n",
    "    class_weight = 'balanced', #dict or ‘balanced’, default=None\n",
    "    random_state = 42,\n",
    "    max_iter = 2000 #int, default=1000\n",
    ")"
   ],
   "metadata": {
    "collapsed": false
   }
  },
  {
   "cell_type": "code",
   "execution_count": 26,
   "outputs": [],
   "source": [
    "clf_lsvc = clf_lsvc.fit(X_train, y_train)\n",
    "y_predict_lsvc = clf_lsvc.predict(X_test)"
   ],
   "metadata": {
    "collapsed": false
   }
  },
  {
   "cell_type": "code",
   "execution_count": 28,
   "outputs": [
    {
     "data": {
      "text/plain": "0.3762740183792815"
     },
     "execution_count": 28,
     "metadata": {},
     "output_type": "execute_result"
    }
   ],
   "source": [
    "f1_score(y_predict_lsvc, y_test, average=\"macro\")"
   ],
   "metadata": {
    "collapsed": false
   }
  },
  {
   "cell_type": "markdown",
   "source": [
    "## Деревья решений"
   ],
   "metadata": {
    "collapsed": false
   }
  },
  {
   "cell_type": "code",
   "execution_count": 31,
   "outputs": [],
   "source": [
    "clf_dt =  DecisionTreeClassifier(\n",
    "    criterion = 'entropy', #{“gini”, “entropy”, “log_loss”}, default=”gini”\n",
    "    splitter = 'best', #{“best”, “random”}, default=”best”\n",
    "    max_depth = 200, #int, default=None\n",
    "    class_weight = 'balanced', #dict or ‘balanced’, default=None\n",
    "    random_state = 42\n",
    ")"
   ],
   "metadata": {
    "collapsed": false
   }
  },
  {
   "cell_type": "code",
   "execution_count": 32,
   "outputs": [],
   "source": [
    "clf_dt = clf_dt.fit(X_train, y_train)\n",
    "y_predict_dt = clf_dt.predict(X_test)"
   ],
   "metadata": {
    "collapsed": false
   }
  },
  {
   "cell_type": "code",
   "execution_count": 33,
   "outputs": [
    {
     "data": {
      "text/plain": "0.4779461279461279"
     },
     "execution_count": 33,
     "metadata": {},
     "output_type": "execute_result"
    }
   ],
   "source": [
    "f1_score(y_predict_dt, y_test, average=\"macro\")\n"
   ],
   "metadata": {
    "collapsed": false
   }
  },
  {
   "cell_type": "markdown",
   "source": [
    "## Случайный лес"
   ],
   "metadata": {
    "collapsed": false
   }
  },
  {
   "cell_type": "code",
   "execution_count": 56,
   "outputs": [],
   "source": [
    "clf_rf =  RandomForestClassifier(\n",
    "    n_estimators = 5000, #int, default=100\n",
    "    criterion = 'gini', #{“gini”, “entropy”, “log_loss”}, default=”gini”\n",
    "    max_depth = 20, #int, default=None\n",
    "    class_weight = 'balanced', #dict or ‘balanced’, default=None\n",
    "    random_state = 42\n",
    ")"
   ],
   "metadata": {
    "collapsed": false
   }
  },
  {
   "cell_type": "code",
   "execution_count": 57,
   "outputs": [],
   "source": [
    "clf_rf = clf_rf.fit(X_train, y_train)\n",
    "y_predict_rf = clf_rf.predict(X_test)"
   ],
   "metadata": {
    "collapsed": false
   }
  },
  {
   "cell_type": "code",
   "execution_count": 58,
   "outputs": [
    {
     "data": {
      "text/plain": "0.4794229748637043"
     },
     "execution_count": 58,
     "metadata": {},
     "output_type": "execute_result"
    }
   ],
   "source": [
    "f1_score(y_predict_rf, y_test, average=\"macro\")\n"
   ],
   "metadata": {
    "collapsed": false
   }
  },
  {
   "cell_type": "markdown",
   "source": [
    "## K ближайших"
   ],
   "metadata": {
    "collapsed": false
   }
  },
  {
   "cell_type": "code",
   "execution_count": 76,
   "outputs": [],
   "source": [
    "clf_KNN = KNeighborsClassifier(\n",
    "    n_neighbors = 35, #int, default=5\n",
    "    weights = 'distance', #{‘uniform’, ‘distance’}, callable or None, default=’uniform’\n",
    "    metric = 'euclidean', #str or callable, default=’minkowski’\n",
    ")"
   ],
   "metadata": {
    "collapsed": false
   }
  },
  {
   "cell_type": "code",
   "execution_count": 77,
   "outputs": [],
   "source": [
    "clf_KNN = clf_KNN.fit(X_train, y_train)\n",
    "y_predict_KNN = clf_KNN.predict(X_test)"
   ],
   "metadata": {
    "collapsed": false
   }
  },
  {
   "cell_type": "code",
   "execution_count": 78,
   "outputs": [
    {
     "data": {
      "text/plain": "0.38307082987934055"
     },
     "execution_count": 78,
     "metadata": {},
     "output_type": "execute_result"
    }
   ],
   "source": [
    "f1_score(y_predict_KNN, y_test, average=\"macro\")\n"
   ],
   "metadata": {
    "collapsed": false
   }
  },
  {
   "cell_type": "markdown",
   "source": [
    "## Naive bias"
   ],
   "metadata": {
    "collapsed": false
   }
  },
  {
   "cell_type": "code",
   "execution_count": 80,
   "outputs": [],
   "source": [
    "clf_nb = MultinomialNB(\n",
    "    alpha = 1.1 #float or array-like of shape (n_features,), default=1.0\n",
    ")"
   ],
   "metadata": {
    "collapsed": false
   }
  },
  {
   "cell_type": "code",
   "execution_count": 82,
   "outputs": [
    {
     "ename": "ValueError",
     "evalue": "Negative values in data passed to MultinomialNB (input X)",
     "output_type": "error",
     "traceback": [
      "\u001B[0;31m---------------------------------------------------------------------------\u001B[0m",
      "\u001B[0;31mValueError\u001B[0m                                Traceback (most recent call last)",
      "Cell \u001B[0;32mIn[82], line 1\u001B[0m\n\u001B[0;32m----> 1\u001B[0m clf_nb \u001B[38;5;241m=\u001B[39m \u001B[43mclf_nb\u001B[49m\u001B[38;5;241;43m.\u001B[39;49m\u001B[43mfit\u001B[49m\u001B[43m(\u001B[49m\u001B[43mX_train\u001B[49m\u001B[43m,\u001B[49m\u001B[43m \u001B[49m\u001B[43my_train\u001B[49m\u001B[43m)\u001B[49m\n\u001B[1;32m      2\u001B[0m y_predict_nb \u001B[38;5;241m=\u001B[39m clf_nb\u001B[38;5;241m.\u001B[39mpredict(X_test\u001B[38;5;241m*\u001B[39m\u001B[38;5;241m*\u001B[39m\u001B[38;5;241m2\u001B[39m)\n",
      "File \u001B[0;32m/opt/homebrew/lib/python3.10/site-packages/sklearn/naive_bayes.py:776\u001B[0m, in \u001B[0;36m_BaseDiscreteNB.fit\u001B[0;34m(self, X, y, sample_weight)\u001B[0m\n\u001B[1;32m    774\u001B[0m n_classes \u001B[38;5;241m=\u001B[39m Y\u001B[38;5;241m.\u001B[39mshape[\u001B[38;5;241m1\u001B[39m]\n\u001B[1;32m    775\u001B[0m \u001B[38;5;28mself\u001B[39m\u001B[38;5;241m.\u001B[39m_init_counters(n_classes, n_features)\n\u001B[0;32m--> 776\u001B[0m \u001B[38;5;28;43mself\u001B[39;49m\u001B[38;5;241;43m.\u001B[39;49m\u001B[43m_count\u001B[49m\u001B[43m(\u001B[49m\u001B[43mX\u001B[49m\u001B[43m,\u001B[49m\u001B[43m \u001B[49m\u001B[43mY\u001B[49m\u001B[43m)\u001B[49m\n\u001B[1;32m    777\u001B[0m alpha \u001B[38;5;241m=\u001B[39m \u001B[38;5;28mself\u001B[39m\u001B[38;5;241m.\u001B[39m_check_alpha()\n\u001B[1;32m    778\u001B[0m \u001B[38;5;28mself\u001B[39m\u001B[38;5;241m.\u001B[39m_update_feature_log_prob(alpha)\n",
      "File \u001B[0;32m/opt/homebrew/lib/python3.10/site-packages/sklearn/naive_bayes.py:898\u001B[0m, in \u001B[0;36mMultinomialNB._count\u001B[0;34m(self, X, Y)\u001B[0m\n\u001B[1;32m    896\u001B[0m \u001B[38;5;28;01mdef\u001B[39;00m \u001B[38;5;21m_count\u001B[39m(\u001B[38;5;28mself\u001B[39m, X, Y):\n\u001B[1;32m    897\u001B[0m \u001B[38;5;250m    \u001B[39m\u001B[38;5;124;03m\"\"\"Count and smooth feature occurrences.\"\"\"\u001B[39;00m\n\u001B[0;32m--> 898\u001B[0m     \u001B[43mcheck_non_negative\u001B[49m\u001B[43m(\u001B[49m\u001B[43mX\u001B[49m\u001B[43m,\u001B[49m\u001B[43m \u001B[49m\u001B[38;5;124;43m\"\u001B[39;49m\u001B[38;5;124;43mMultinomialNB (input X)\u001B[39;49m\u001B[38;5;124;43m\"\u001B[39;49m\u001B[43m)\u001B[49m\n\u001B[1;32m    899\u001B[0m     \u001B[38;5;28mself\u001B[39m\u001B[38;5;241m.\u001B[39mfeature_count_ \u001B[38;5;241m+\u001B[39m\u001B[38;5;241m=\u001B[39m safe_sparse_dot(Y\u001B[38;5;241m.\u001B[39mT, X)\n\u001B[1;32m    900\u001B[0m     \u001B[38;5;28mself\u001B[39m\u001B[38;5;241m.\u001B[39mclass_count_ \u001B[38;5;241m+\u001B[39m\u001B[38;5;241m=\u001B[39m Y\u001B[38;5;241m.\u001B[39msum(axis\u001B[38;5;241m=\u001B[39m\u001B[38;5;241m0\u001B[39m)\n",
      "File \u001B[0;32m/opt/homebrew/lib/python3.10/site-packages/sklearn/utils/validation.py:1418\u001B[0m, in \u001B[0;36mcheck_non_negative\u001B[0;34m(X, whom)\u001B[0m\n\u001B[1;32m   1415\u001B[0m     X_min \u001B[38;5;241m=\u001B[39m xp\u001B[38;5;241m.\u001B[39mmin(X)\n\u001B[1;32m   1417\u001B[0m \u001B[38;5;28;01mif\u001B[39;00m X_min \u001B[38;5;241m<\u001B[39m \u001B[38;5;241m0\u001B[39m:\n\u001B[0;32m-> 1418\u001B[0m     \u001B[38;5;28;01mraise\u001B[39;00m \u001B[38;5;167;01mValueError\u001B[39;00m(\u001B[38;5;124m\"\u001B[39m\u001B[38;5;124mNegative values in data passed to \u001B[39m\u001B[38;5;132;01m%s\u001B[39;00m\u001B[38;5;124m\"\u001B[39m \u001B[38;5;241m%\u001B[39m whom)\n",
      "\u001B[0;31mValueError\u001B[0m: Negative values in data passed to MultinomialNB (input X)"
     ]
    }
   ],
   "source": [
    "clf_nb = clf_nb.fit(X_train, y_train)\n",
    "y_predict_nb = clf_nb.predict(X_test)"
   ],
   "metadata": {
    "collapsed": false
   }
  },
  {
   "cell_type": "code",
   "execution_count": null,
   "outputs": [],
   "source": [],
   "metadata": {
    "collapsed": false
   }
  }
 ],
 "metadata": {
  "kernelspec": {
   "display_name": "Python 3",
   "language": "python",
   "name": "python3"
  },
  "language_info": {
   "codemirror_mode": {
    "name": "ipython",
    "version": 2
   },
   "file_extension": ".py",
   "mimetype": "text/x-python",
   "name": "python",
   "nbconvert_exporter": "python",
   "pygments_lexer": "ipython2",
   "version": "2.7.6"
  }
 },
 "nbformat": 4,
 "nbformat_minor": 0
}
