{
 "cells": [
  {
   "cell_type": "markdown",
   "source": [
    "## Импортируем библиотеки"
   ],
   "metadata": {
    "collapsed": false
   }
  },
  {
   "cell_type": "code",
   "execution_count": 1,
   "metadata": {
    "collapsed": true
   },
   "outputs": [],
   "source": [
    "import pandas as pd\n",
    "import numpy as np\n"
   ]
  },
  {
   "cell_type": "markdown",
   "source": [
    "## Читаем файлик и выводим"
   ],
   "metadata": {
    "collapsed": false
   }
  },
  {
   "cell_type": "code",
   "execution_count": 2,
   "outputs": [
    {
     "data": {
      "text/plain": "       Name_audio                                      Transcription   label\n0  10dec_D11_1_p1  Давай ты успокоишься для начала. Ты можешь не ...    гнев\n1  10dec_D11_1_p2  Подожди, подожди, успокойся пожалуйста. Подожд...    гнев\n2  10dec_D11_2_p1  Кристин, привет. Ты слышала там самолёт упал в...   страх\n3  10dec_D11_2_p2  Кристин, привет .. слушай .. Я боюсь лететь, т...   страх\n4     10dec_D31_1  Почему? Подожди... Ну подожди, ну как же, но м...  грусть",
      "text/html": "<div>\n<style scoped>\n    .dataframe tbody tr th:only-of-type {\n        vertical-align: middle;\n    }\n\n    .dataframe tbody tr th {\n        vertical-align: top;\n    }\n\n    .dataframe thead th {\n        text-align: right;\n    }\n</style>\n<table border=\"1\" class=\"dataframe\">\n  <thead>\n    <tr style=\"text-align: right;\">\n      <th></th>\n      <th>Name_audio</th>\n      <th>Transcription</th>\n      <th>label</th>\n    </tr>\n  </thead>\n  <tbody>\n    <tr>\n      <th>0</th>\n      <td>10dec_D11_1_p1</td>\n      <td>Давай ты успокоишься для начала. Ты можешь не ...</td>\n      <td>гнев</td>\n    </tr>\n    <tr>\n      <th>1</th>\n      <td>10dec_D11_1_p2</td>\n      <td>Подожди, подожди, успокойся пожалуйста. Подожд...</td>\n      <td>гнев</td>\n    </tr>\n    <tr>\n      <th>2</th>\n      <td>10dec_D11_2_p1</td>\n      <td>Кристин, привет. Ты слышала там самолёт упал в...</td>\n      <td>страх</td>\n    </tr>\n    <tr>\n      <th>3</th>\n      <td>10dec_D11_2_p2</td>\n      <td>Кристин, привет .. слушай .. Я боюсь лететь, т...</td>\n      <td>страх</td>\n    </tr>\n    <tr>\n      <th>4</th>\n      <td>10dec_D31_1</td>\n      <td>Почему? Подожди... Ну подожди, ну как же, но м...</td>\n      <td>грусть</td>\n    </tr>\n  </tbody>\n</table>\n</div>"
     },
     "execution_count": 2,
     "metadata": {},
     "output_type": "execute_result"
    }
   ],
   "source": [
    "df = pd.read_csv('Manual_transcription_clear_with_label.csv', sep=\";\")\n",
    "df.head()"
   ],
   "metadata": {
    "collapsed": false
   }
  },
  {
   "cell_type": "markdown",
   "source": [
    "## Выкидываем колонку"
   ],
   "metadata": {
    "collapsed": false
   }
  },
  {
   "cell_type": "code",
   "execution_count": 3,
   "outputs": [
    {
     "data": {
      "text/plain": "                                       Transcription   label\n0  Давай ты успокоишься для начала. Ты можешь не ...    гнев\n1  Подожди, подожди, успокойся пожалуйста. Подожд...    гнев\n2  Кристин, привет. Ты слышала там самолёт упал в...   страх\n3  Кристин, привет .. слушай .. Я боюсь лететь, т...   страх\n4  Почему? Подожди... Ну подожди, ну как же, но м...  грусть",
      "text/html": "<div>\n<style scoped>\n    .dataframe tbody tr th:only-of-type {\n        vertical-align: middle;\n    }\n\n    .dataframe tbody tr th {\n        vertical-align: top;\n    }\n\n    .dataframe thead th {\n        text-align: right;\n    }\n</style>\n<table border=\"1\" class=\"dataframe\">\n  <thead>\n    <tr style=\"text-align: right;\">\n      <th></th>\n      <th>Transcription</th>\n      <th>label</th>\n    </tr>\n  </thead>\n  <tbody>\n    <tr>\n      <th>0</th>\n      <td>Давай ты успокоишься для начала. Ты можешь не ...</td>\n      <td>гнев</td>\n    </tr>\n    <tr>\n      <th>1</th>\n      <td>Подожди, подожди, успокойся пожалуйста. Подожд...</td>\n      <td>гнев</td>\n    </tr>\n    <tr>\n      <th>2</th>\n      <td>Кристин, привет. Ты слышала там самолёт упал в...</td>\n      <td>страх</td>\n    </tr>\n    <tr>\n      <th>3</th>\n      <td>Кристин, привет .. слушай .. Я боюсь лететь, т...</td>\n      <td>страх</td>\n    </tr>\n    <tr>\n      <th>4</th>\n      <td>Почему? Подожди... Ну подожди, ну как же, но м...</td>\n      <td>грусть</td>\n    </tr>\n  </tbody>\n</table>\n</div>"
     },
     "execution_count": 3,
     "metadata": {},
     "output_type": "execute_result"
    }
   ],
   "source": [
    "df=df.drop('Name_audio', axis=1)\n",
    "df.head()"
   ],
   "metadata": {
    "collapsed": false
   }
  },
  {
   "cell_type": "markdown",
   "source": [
    "## Переименовали"
   ],
   "metadata": {
    "collapsed": false
   }
  },
  {
   "cell_type": "code",
   "execution_count": 4,
   "outputs": [
    {
     "data": {
      "text/plain": "                                       Transcription Emotion\n0  Давай ты успокоишься для начала. Ты можешь не ...    гнев\n1  Подожди, подожди, успокойся пожалуйста. Подожд...    гнев\n2  Кристин, привет. Ты слышала там самолёт упал в...   страх\n3  Кристин, привет .. слушай .. Я боюсь лететь, т...   страх\n4  Почему? Подожди... Ну подожди, ну как же, но м...  грусть",
      "text/html": "<div>\n<style scoped>\n    .dataframe tbody tr th:only-of-type {\n        vertical-align: middle;\n    }\n\n    .dataframe tbody tr th {\n        vertical-align: top;\n    }\n\n    .dataframe thead th {\n        text-align: right;\n    }\n</style>\n<table border=\"1\" class=\"dataframe\">\n  <thead>\n    <tr style=\"text-align: right;\">\n      <th></th>\n      <th>Transcription</th>\n      <th>Emotion</th>\n    </tr>\n  </thead>\n  <tbody>\n    <tr>\n      <th>0</th>\n      <td>Давай ты успокоишься для начала. Ты можешь не ...</td>\n      <td>гнев</td>\n    </tr>\n    <tr>\n      <th>1</th>\n      <td>Подожди, подожди, успокойся пожалуйста. Подожд...</td>\n      <td>гнев</td>\n    </tr>\n    <tr>\n      <th>2</th>\n      <td>Кристин, привет. Ты слышала там самолёт упал в...</td>\n      <td>страх</td>\n    </tr>\n    <tr>\n      <th>3</th>\n      <td>Кристин, привет .. слушай .. Я боюсь лететь, т...</td>\n      <td>страх</td>\n    </tr>\n    <tr>\n      <th>4</th>\n      <td>Почему? Подожди... Ну подожди, ну как же, но м...</td>\n      <td>грусть</td>\n    </tr>\n  </tbody>\n</table>\n</div>"
     },
     "execution_count": 4,
     "metadata": {},
     "output_type": "execute_result"
    }
   ],
   "source": [
    "df = df.rename({'label':'Emotion'}, axis=1)\n",
    "df.head()"
   ],
   "metadata": {
    "collapsed": false
   }
  },
  {
   "cell_type": "markdown",
   "source": [
    "## Заполняем сентименты"
   ],
   "metadata": {
    "collapsed": false
   }
  },
  {
   "cell_type": "code",
   "execution_count": 5,
   "outputs": [
    {
     "data": {
      "text/plain": "                                        Transcription     Emotion  \\\n0   Давай ты успокоишься для начала. Ты можешь не ...        гнев   \n1   Подожди, подожди, успокойся пожалуйста. Подожд...        гнев   \n2   Кристин, привет. Ты слышала там самолёт упал в...       страх   \n3   Кристин, привет .. слушай .. Я боюсь лететь, т...       страх   \n4   Почему? Подожди... Ну подожди, ну как же, но м...      грусть   \n5   Крис я не смогу поехать в Новую Зеландию. У ме...      грусть   \n6   Ну... Ну я забыла. Ну-ну. Ну у меня экзамены б...      грусть   \n7   Я тебя просто попросил купить билеты, понимаеш...        гнев   \n8   Ну прости пожалуйста, но я забыла. Ну у меня с...      грусть   \n9   Слушай, я просто попросил тебя купить билеты н...        гнев   \n10  Ну ты можешь не кричать на меня хотя бы? Ну я ...      грусть   \n11  Кристина, почему нельзя было купить билеты!? Я...        гнев   \n12      Это фу ну. Ну фу . Ну тебе самому непротивно?  отвращение   \n13  Мы в тот раз, когда ездили в Китай, там Женька...  отвращение   \n14                    Фу! Да фу, ну он же склизский!   отвращение   \n15  Слушай, я там смотрел видео чо они там хавают....  отвращение   \n16  Родион, у меня для тебя хорошая новость! Мы ед...     радость   \n17   Подожди как, как едем? Какая премия? Откуда? ...     радость   \n18  Мы едем в новую Зеландию я купила нам билеты! ...     радость   \n19   Как, подожди, как купила? Подожди какая преми...     радость   \n20  Подождите. Что произошло? Стоп, а каком мы эта...       страх   \n21  А, застряли что ли? А. Так, , я ж, , таблетки ...       страх   \n22  Ты понимаешь, он меня уволил, ну как так можно...        гнев   \n23  Он нас уволил. Я вообще поражаюсь, конечно. Пр...        гнев   \n24  Ну ты понимаешь, что случилось ? Как так можно...        гнев   \n25   Да, вот так просто взяла и вышвырнула. Нет, н...        гнев   \n26              Фу. Господи, какой ужас, а. Ну вот. .  отвращение   \n27     Что за вонь? Я. . Сколько ехать-то еще с этим?  отвращение   \n28  Да. Что за вонь-то? Здесь чё осёл что ли был, ...  отвращение   \n29               Угу. Еще двадцать этажей. Ну пере...  отвращение   \n\n               Sentiment  \n0   негативный сентимент  \n1   негативный сентимент  \n2   негативный сентимент  \n3   негативный сентимент  \n4   негативный сентимент  \n5   негативный сентимент  \n6   негативный сентимент  \n7   негативный сентимент  \n8   негативный сентимент  \n9   негативный сентимент  \n10  негативный сентимент  \n11  негативный сентимент  \n12  негативный сентимент  \n13  негативный сентимент  \n14  негативный сентимент  \n15  негативный сентимент  \n16   радостный сентимент  \n17   радостный сентимент  \n18   радостный сентимент  \n19   радостный сентимент  \n20  негативный сентимент  \n21  негативный сентимент  \n22  негативный сентимент  \n23  негативный сентимент  \n24  негативный сентимент  \n25  негативный сентимент  \n26  негативный сентимент  \n27  негативный сентимент  \n28  негативный сентимент  \n29  негативный сентимент  ",
      "text/html": "<div>\n<style scoped>\n    .dataframe tbody tr th:only-of-type {\n        vertical-align: middle;\n    }\n\n    .dataframe tbody tr th {\n        vertical-align: top;\n    }\n\n    .dataframe thead th {\n        text-align: right;\n    }\n</style>\n<table border=\"1\" class=\"dataframe\">\n  <thead>\n    <tr style=\"text-align: right;\">\n      <th></th>\n      <th>Transcription</th>\n      <th>Emotion</th>\n      <th>Sentiment</th>\n    </tr>\n  </thead>\n  <tbody>\n    <tr>\n      <th>0</th>\n      <td>Давай ты успокоишься для начала. Ты можешь не ...</td>\n      <td>гнев</td>\n      <td>негативный сентимент</td>\n    </tr>\n    <tr>\n      <th>1</th>\n      <td>Подожди, подожди, успокойся пожалуйста. Подожд...</td>\n      <td>гнев</td>\n      <td>негативный сентимент</td>\n    </tr>\n    <tr>\n      <th>2</th>\n      <td>Кристин, привет. Ты слышала там самолёт упал в...</td>\n      <td>страх</td>\n      <td>негативный сентимент</td>\n    </tr>\n    <tr>\n      <th>3</th>\n      <td>Кристин, привет .. слушай .. Я боюсь лететь, т...</td>\n      <td>страх</td>\n      <td>негативный сентимент</td>\n    </tr>\n    <tr>\n      <th>4</th>\n      <td>Почему? Подожди... Ну подожди, ну как же, но м...</td>\n      <td>грусть</td>\n      <td>негативный сентимент</td>\n    </tr>\n    <tr>\n      <th>5</th>\n      <td>Крис я не смогу поехать в Новую Зеландию. У ме...</td>\n      <td>грусть</td>\n      <td>негативный сентимент</td>\n    </tr>\n    <tr>\n      <th>6</th>\n      <td>Ну... Ну я забыла. Ну-ну. Ну у меня экзамены б...</td>\n      <td>грусть</td>\n      <td>негативный сентимент</td>\n    </tr>\n    <tr>\n      <th>7</th>\n      <td>Я тебя просто попросил купить билеты, понимаеш...</td>\n      <td>гнев</td>\n      <td>негативный сентимент</td>\n    </tr>\n    <tr>\n      <th>8</th>\n      <td>Ну прости пожалуйста, но я забыла. Ну у меня с...</td>\n      <td>грусть</td>\n      <td>негативный сентимент</td>\n    </tr>\n    <tr>\n      <th>9</th>\n      <td>Слушай, я просто попросил тебя купить билеты н...</td>\n      <td>гнев</td>\n      <td>негативный сентимент</td>\n    </tr>\n    <tr>\n      <th>10</th>\n      <td>Ну ты можешь не кричать на меня хотя бы? Ну я ...</td>\n      <td>грусть</td>\n      <td>негативный сентимент</td>\n    </tr>\n    <tr>\n      <th>11</th>\n      <td>Кристина, почему нельзя было купить билеты!? Я...</td>\n      <td>гнев</td>\n      <td>негативный сентимент</td>\n    </tr>\n    <tr>\n      <th>12</th>\n      <td>Это фу ну. Ну фу . Ну тебе самому непротивно?</td>\n      <td>отвращение</td>\n      <td>негативный сентимент</td>\n    </tr>\n    <tr>\n      <th>13</th>\n      <td>Мы в тот раз, когда ездили в Китай, там Женька...</td>\n      <td>отвращение</td>\n      <td>негативный сентимент</td>\n    </tr>\n    <tr>\n      <th>14</th>\n      <td>Фу! Да фу, ну он же склизский!</td>\n      <td>отвращение</td>\n      <td>негативный сентимент</td>\n    </tr>\n    <tr>\n      <th>15</th>\n      <td>Слушай, я там смотрел видео чо они там хавают....</td>\n      <td>отвращение</td>\n      <td>негативный сентимент</td>\n    </tr>\n    <tr>\n      <th>16</th>\n      <td>Родион, у меня для тебя хорошая новость! Мы ед...</td>\n      <td>радость</td>\n      <td>радостный сентимент</td>\n    </tr>\n    <tr>\n      <th>17</th>\n      <td>Подожди как, как едем? Какая премия? Откуда? ...</td>\n      <td>радость</td>\n      <td>радостный сентимент</td>\n    </tr>\n    <tr>\n      <th>18</th>\n      <td>Мы едем в новую Зеландию я купила нам билеты! ...</td>\n      <td>радость</td>\n      <td>радостный сентимент</td>\n    </tr>\n    <tr>\n      <th>19</th>\n      <td>Как, подожди, как купила? Подожди какая преми...</td>\n      <td>радость</td>\n      <td>радостный сентимент</td>\n    </tr>\n    <tr>\n      <th>20</th>\n      <td>Подождите. Что произошло? Стоп, а каком мы эта...</td>\n      <td>страх</td>\n      <td>негативный сентимент</td>\n    </tr>\n    <tr>\n      <th>21</th>\n      <td>А, застряли что ли? А. Так, , я ж, , таблетки ...</td>\n      <td>страх</td>\n      <td>негативный сентимент</td>\n    </tr>\n    <tr>\n      <th>22</th>\n      <td>Ты понимаешь, он меня уволил, ну как так можно...</td>\n      <td>гнев</td>\n      <td>негативный сентимент</td>\n    </tr>\n    <tr>\n      <th>23</th>\n      <td>Он нас уволил. Я вообще поражаюсь, конечно. Пр...</td>\n      <td>гнев</td>\n      <td>негативный сентимент</td>\n    </tr>\n    <tr>\n      <th>24</th>\n      <td>Ну ты понимаешь, что случилось ? Как так можно...</td>\n      <td>гнев</td>\n      <td>негативный сентимент</td>\n    </tr>\n    <tr>\n      <th>25</th>\n      <td>Да, вот так просто взяла и вышвырнула. Нет, н...</td>\n      <td>гнев</td>\n      <td>негативный сентимент</td>\n    </tr>\n    <tr>\n      <th>26</th>\n      <td>Фу. Господи, какой ужас, а. Ну вот. .</td>\n      <td>отвращение</td>\n      <td>негативный сентимент</td>\n    </tr>\n    <tr>\n      <th>27</th>\n      <td>Что за вонь? Я. . Сколько ехать-то еще с этим?</td>\n      <td>отвращение</td>\n      <td>негативный сентимент</td>\n    </tr>\n    <tr>\n      <th>28</th>\n      <td>Да. Что за вонь-то? Здесь чё осёл что ли был, ...</td>\n      <td>отвращение</td>\n      <td>негативный сентимент</td>\n    </tr>\n    <tr>\n      <th>29</th>\n      <td>Угу. Еще двадцать этажей. Ну пере...</td>\n      <td>отвращение</td>\n      <td>негативный сентимент</td>\n    </tr>\n  </tbody>\n</table>\n</div>"
     },
     "execution_count": 5,
     "metadata": {},
     "output_type": "execute_result"
    }
   ],
   "source": [
    "sentiments = []\n",
    "\n",
    "for emotion in df.Emotion:\n",
    "    if emotion in ('гнев', 'грусть', 'отвращение', 'страх'):\n",
    "        sentiments.append(\"негативный сентимент\")\n",
    "    elif emotion in ('радость', 'удивление'):\n",
    "        sentiments.append(\"радостный сентимент\")\n",
    "    elif emotion in (\"нейтраль\"):\n",
    "        sentiments.append(\"нейтральный сентимент\")\n",
    "\n",
    "df['Sentiment'] = sentiments\n",
    "df.head(30)"
   ],
   "metadata": {
    "collapsed": false
   }
  },
  {
   "cell_type": "markdown",
   "source": [
    "Проверяем работоспособность"
   ],
   "metadata": {
    "collapsed": false
   }
  },
  {
   "cell_type": "code",
   "execution_count": 6,
   "outputs": [
    {
     "data": {
      "text/plain": "array(['негативный сентимент', 'нейтральный сентимент',\n       'радостный сентимент'], dtype=object)"
     },
     "execution_count": 6,
     "metadata": {},
     "output_type": "execute_result"
    }
   ],
   "source": [
    "np.unique(df.Sentiment)"
   ],
   "metadata": {
    "collapsed": false
   }
  },
  {
   "cell_type": "markdown",
   "source": [
    "## Создаем списки эмоций и сентиментов"
   ],
   "metadata": {
    "collapsed": false
   }
  },
  {
   "cell_type": "code",
   "execution_count": 7,
   "outputs": [
    {
     "data": {
      "text/plain": "(array(['гнев', 'грусть', 'нейтраль', 'отвращение', 'радость', 'страх',\n        'удивление'], dtype=object),\n array(['негативный сентимент', 'нейтральный сентимент',\n        'радостный сентимент'], dtype=object))"
     },
     "execution_count": 7,
     "metadata": {},
     "output_type": "execute_result"
    }
   ],
   "source": [
    "emotions = np.unique(df['Emotion'])\n",
    "sentiments = np.unique(df['Sentiment'])\n",
    "emotions, sentiments"
   ],
   "metadata": {
    "collapsed": false
   }
  },
  {
   "cell_type": "markdown",
   "source": [
    "## Меняем слова на буквы"
   ],
   "metadata": {
    "collapsed": false
   }
  },
  {
   "cell_type": "code",
   "execution_count": 9,
   "outputs": [
    {
     "data": {
      "text/plain": "                                        Transcription    Emotion  \\\n0   Давай ты успокоишься для начала. Ты можешь не ...       гнев   \n1   Подожди, подожди, успокойся пожалуйста. Подожд...       гнев   \n2   Кристин, привет. Ты слышала там самолёт упал в...      страх   \n3   Кристин, привет .. слушай .. Я боюсь лететь, т...      страх   \n4   Почему? Подожди... Ну подожди, ну как же, но м...     грусть   \n..                                                ...        ...   \n95  Подожди, Руслано а? Ну, всмысле, это ты чего з...  удивление   \n96  Владимиров, это ты что ли? Владимиров, а я не ...  удивление   \n97  Что происходит? Как застряли? Где диспетчер? Г...      страх   \n98  Мы застряли.А попробуй, попробуй кнопки нажать...      страх   \n99  Что происходит? Что происходит? Что делать? Гд...      страх   \n\n               Sentiment  Emotions  \n0   негативный сентимент         0  \n1   негативный сентимент         0  \n2   негативный сентимент         5  \n3   негативный сентимент         5  \n4   негативный сентимент         1  \n..                   ...       ...  \n95   радостный сентимент         6  \n96   радостный сентимент         6  \n97  негативный сентимент         5  \n98  негативный сентимент         5  \n99  негативный сентимент         5  \n\n[100 rows x 4 columns]",
      "text/html": "<div>\n<style scoped>\n    .dataframe tbody tr th:only-of-type {\n        vertical-align: middle;\n    }\n\n    .dataframe tbody tr th {\n        vertical-align: top;\n    }\n\n    .dataframe thead th {\n        text-align: right;\n    }\n</style>\n<table border=\"1\" class=\"dataframe\">\n  <thead>\n    <tr style=\"text-align: right;\">\n      <th></th>\n      <th>Transcription</th>\n      <th>Emotion</th>\n      <th>Sentiment</th>\n      <th>Emotions</th>\n    </tr>\n  </thead>\n  <tbody>\n    <tr>\n      <th>0</th>\n      <td>Давай ты успокоишься для начала. Ты можешь не ...</td>\n      <td>гнев</td>\n      <td>негативный сентимент</td>\n      <td>0</td>\n    </tr>\n    <tr>\n      <th>1</th>\n      <td>Подожди, подожди, успокойся пожалуйста. Подожд...</td>\n      <td>гнев</td>\n      <td>негативный сентимент</td>\n      <td>0</td>\n    </tr>\n    <tr>\n      <th>2</th>\n      <td>Кристин, привет. Ты слышала там самолёт упал в...</td>\n      <td>страх</td>\n      <td>негативный сентимент</td>\n      <td>5</td>\n    </tr>\n    <tr>\n      <th>3</th>\n      <td>Кристин, привет .. слушай .. Я боюсь лететь, т...</td>\n      <td>страх</td>\n      <td>негативный сентимент</td>\n      <td>5</td>\n    </tr>\n    <tr>\n      <th>4</th>\n      <td>Почему? Подожди... Ну подожди, ну как же, но м...</td>\n      <td>грусть</td>\n      <td>негативный сентимент</td>\n      <td>1</td>\n    </tr>\n    <tr>\n      <th>...</th>\n      <td>...</td>\n      <td>...</td>\n      <td>...</td>\n      <td>...</td>\n    </tr>\n    <tr>\n      <th>95</th>\n      <td>Подожди, Руслано а? Ну, всмысле, это ты чего з...</td>\n      <td>удивление</td>\n      <td>радостный сентимент</td>\n      <td>6</td>\n    </tr>\n    <tr>\n      <th>96</th>\n      <td>Владимиров, это ты что ли? Владимиров, а я не ...</td>\n      <td>удивление</td>\n      <td>радостный сентимент</td>\n      <td>6</td>\n    </tr>\n    <tr>\n      <th>97</th>\n      <td>Что происходит? Как застряли? Где диспетчер? Г...</td>\n      <td>страх</td>\n      <td>негативный сентимент</td>\n      <td>5</td>\n    </tr>\n    <tr>\n      <th>98</th>\n      <td>Мы застряли.А попробуй, попробуй кнопки нажать...</td>\n      <td>страх</td>\n      <td>негативный сентимент</td>\n      <td>5</td>\n    </tr>\n    <tr>\n      <th>99</th>\n      <td>Что происходит? Что происходит? Что делать? Гд...</td>\n      <td>страх</td>\n      <td>негативный сентимент</td>\n      <td>5</td>\n    </tr>\n  </tbody>\n</table>\n<p>100 rows × 4 columns</p>\n</div>"
     },
     "execution_count": 9,
     "metadata": {},
     "output_type": "execute_result"
    }
   ],
   "source": [
    "df['Emotions'] = df['Emotion'].replace(emotions, list(range(len(emotions))))\n",
    "df.head(100)"
   ],
   "metadata": {
    "collapsed": false
   }
  },
  {
   "cell_type": "markdown",
   "source": [
    "## Сохраняем файл"
   ],
   "metadata": {
    "collapsed": false
   }
  },
  {
   "cell_type": "code",
   "execution_count": 10,
   "outputs": [],
   "source": [
    "df.to_csv(\"res.csv\", sep=\";\")"
   ],
   "metadata": {
    "collapsed": false
   }
  },
  {
   "cell_type": "code",
   "execution_count": 12,
   "outputs": [
    {
     "data": {
      "text/plain": "(535, 4)"
     },
     "execution_count": 12,
     "metadata": {},
     "output_type": "execute_result"
    }
   ],
   "source": [
    "df.shape"
   ],
   "metadata": {
    "collapsed": false
   }
  },
  {
   "cell_type": "code",
   "execution_count": null,
   "outputs": [],
   "source": [],
   "metadata": {
    "collapsed": false
   }
  }
 ],
 "metadata": {
  "kernelspec": {
   "display_name": "Python 3",
   "language": "python",
   "name": "python3"
  },
  "language_info": {
   "codemirror_mode": {
    "name": "ipython",
    "version": 2
   },
   "file_extension": ".py",
   "mimetype": "text/x-python",
   "name": "python",
   "nbconvert_exporter": "python",
   "pygments_lexer": "ipython2",
   "version": "2.7.6"
  }
 },
 "nbformat": 4,
 "nbformat_minor": 0
}
